{
 "cells": [
  {
   "cell_type": "code",
   "execution_count": 5,
   "metadata": {
    "ExecuteTime": {
     "end_time": "2020-06-08T10:19:08.206227Z",
     "start_time": "2020-06-08T10:19:08.045809Z"
    }
   },
   "outputs": [
    {
     "name": "stdout",
     "output_type": "stream",
     "text": [
      "The autoreload extension is already loaded. To reload it, use:\n",
      "  %reload_ext autoreload\n"
     ]
    }
   ],
   "source": [
    "%load_ext autoreload\n",
    "%autoreload 2\n",
    "from torch_snippets.loader import *\n",
    "from generate_image import create_image_char_by_char"
   ]
  },
  {
   "cell_type": "code",
   "execution_count": 9,
   "metadata": {
    "ExecuteTime": {
     "end_time": "2020-06-08T10:19:39.817514Z",
     "start_time": "2020-06-08T10:19:39.688658Z"
    }
   },
   "outputs": [
    {
     "name": "stderr",
     "output_type": "stream",
     "text": [
      "2020-06-08 15:49:39.723 | INFO     | loader:Glob:150 - 100 files found at /Users/yreddy31/Documents/data/ocr-data/fonts/hw-100/*\n"
     ]
    },
    {
     "data": {
      "image/png": "[encoded data removed]",
      "text/plain": [
       "<Figure size 360x360 with 1 Axes>"
      ]
     },
     "metadata": {
      "needs_background": "light"
     },
     "output_type": "display_data"
    }
   ],
   "source": [
    "from augment_functions import *\n",
    "from faker import Faker\n",
    "aug = iaa.Sequential(\n",
    "    iaa.geometric.Affine(\n",
    "        scale={\"x\": (0.9, 1.1), \"y\": (0.9, 1.1)},\n",
    "        translate_percent={\"x\": (-0.1, 0.1), \"y\": (-0.1, 0.1)},\n",
    "        rotate=(-5, 5),\n",
    "        shear=(-2, 2), fit_output=True, cval=255)\n",
    ")\n",
    "fonts = Glob('/Users/yreddy31/Documents/data/ocr-data/fonts/hw-100/*')\n",
    "im, bbs = create_image_char_by_char('Apple\\n Kjfhz', font=choose(fonts))\n",
    "show(im)"
   ]
  },
  {
   "cell_type": "markdown",
   "metadata": {},
   "source": [
    "### IGNORE"
   ]
  },
  {
   "cell_type": "code",
   "execution_count": 3,
   "metadata": {
    "ExecuteTime": {
     "end_time": "2019-11-15T03:03:14.533307Z",
     "start_time": "2019-11-15T03:03:14.351600Z"
    },
    "code_folding": [
     19
    ],
    "scrolled": true
   },
   "outputs": [
    {
     "data": {
      "image/png": "[encoded data removed]",
      "text/plain": [
       "<Figure size 1440x1440 with 1 Axes>"
      ]
     },
     "metadata": {
      "needs_background": "light"
     },
     "output_type": "display_data"
    },
    {
     "data": {
      "text/plain": [
       "(array([[255, 255, 255, ..., 255, 255, 255],\n",
       "        [255, 255, 255, ..., 255, 255, 255],\n",
       "        [255, 255, 255, ..., 255, 255, 255],\n",
       "        ...,\n",
       "        [255, 255, 255, ..., 255, 255, 255],\n",
       "        [255, 255, 255, ..., 255, 255, 255],\n",
       "        [255, 255, 255, ..., 255, 255, 255]], dtype=uint8),\n",
       " 'Port Tracybury, ME 74146')"
      ]
     },
     "execution_count": 3,
     "metadata": {},
     "output_type": "execute_result"
    }
   ],
   "source": [
    "mt = MakeText()\n",
    "\n",
    "def datum(text=None, font=None):\n",
    "    choices, ps = zip(*[('address',4)])\n",
    "    ps = np.array(ps)\n",
    "    ps = ps/sum(ps)\n",
    "    _type = np.random.choice(choices, p=ps)\n",
    "    text = mt(_type) if text is None else text\n",
    "    text = choose(text.split('\\n'))\n",
    "    font = choose(fonts) if font is None else font\n",
    "    im, bbs = create_image_char_by_char(text, font)\n",
    "    return im, text, font\n",
    "\n",
    "def do(text=None, font=None, aug=None, debug=False):\n",
    "    im, label, font = datum(font=font, text=text, aug=aug)\n",
    "    if debug: show(im, title=label, grid=True, sz=10)\n",
    "    return im, label# , font\n",
    "   \n",
    "def do(text=None, font=None, debug=False):\n",
    "    im, label, font = datum(font=font, text=text)\n",
    "    if debug: show(im, title=label, grid=True)\n",
    "    return im, label\n",
    "do(debug=True)"
   ]
  },
  {
   "cell_type": "code",
   "execution_count": 6,
   "metadata": {
    "ExecuteTime": {
     "end_time": "2019-11-15T03:14:03.218431Z",
     "start_time": "2019-11-15T03:14:02.965560Z"
    }
   },
   "outputs": [
    {
     "name": "stdout",
     "output_type": "stream",
     "text": [
      "mkdir: cannot create directory 'synthetic-MAY2-MP-address-clean': File exists\n"
     ]
    }
   ],
   "source": [
    "from tqdm import trange\n",
    "FOLDER = 'synthetic-MAY2-MP-address-clean'\n",
    "!mkdir {FOLDER}\n",
    "def mini_dump(seed):\n",
    "    # ims, labels = [], []\n",
    "    np.random.seed(seed)\n",
    "    Faker.seed(seed)\n",
    "    \n",
    "    for ix in trange(5000):\n",
    "        try:\n",
    "            im, label = do()\n",
    "            if im is None: continue\n",
    "            cv2.imwrite('{}/{}@{}.png'.format(FOLDER, label.replace('/','#'), rand()), im)\n",
    "        except:\n",
    "            pass\n",
    "    return"
   ]
  },
  {
   "cell_type": "code",
   "execution_count": 7,
   "metadata": {},
   "outputs": [
    {
     "name": "stderr",
     "output_type": "stream",
     "text": [
      "100%|██████████| 5000/5000 [02:59<00:00, 27.89it/s]\n",
      "100%|██████████| 5000/5000 [02:59<00:00, 27.84it/s]\n",
      "100%|██████████| 5000/5000 [03:00<00:00, 27.75it/s]\n",
      "100%|██████████| 5000/5000 [03:00<00:00, 27.75it/s]\n",
      "100%|██████████| 5000/5000 [03:00<00:00, 27.67it/s]\n",
      "100%|██████████| 5000/5000 [03:00<00:00, 27.65it/s]\n",
      "100%|██████████| 5000/5000 [03:01<00:00, 27.58it/s]\n",
      "100%|██████████| 5000/5000 [03:01<00:00, 27.55it/s]\n",
      "100%|██████████| 5000/5000 [03:01<00:00, 27.55it/s]\n",
      "100%|██████████| 5000/5000 [03:03<00:00, 27.28it/s]\n"
     ]
    }
   ],
   "source": [
    "from multiprocessing import Process, Queue, Pool\n",
    "process_list = []\n",
    "for i in range(10):\n",
    "    s = np.random.randint(10000000)\n",
    "    process_list.append(Process(target=mini_dump, args=(s,)))\n",
    "for pro in process_list:\n",
    "    pro.start()\n",
    "for pro in process_list:\n",
    "    pro.join()"
   ]
  },
  {
   "cell_type": "code",
   "execution_count": 8,
   "metadata": {},
   "outputs": [
    {
     "name": "stderr",
     "output_type": "stream",
     "text": [
      "2020-05-02 08:49:21.299 | INFO     | ocr.loader:Glob:136 - 50020 files found at synthetic-MAY2-MP-address-clean\n"
     ]
    }
   ],
   "source": [
    "Glob('synthetic-MAY2-MP-address-clean');"
   ]
  }
 ],
 "metadata": {
  "hide_input": false,
  "kernelspec": {
   "display_name": "Python 3",
   "language": "python",
   "name": "python3"
  },
  "language_info": {
   "codemirror_mode": {
    "name": "ipython",
    "version": 3
   },
   "file_extension": ".py",
   "mimetype": "text/x-python",
   "name": "python",
   "nbconvert_exporter": "python",
   "pygments_lexer": "ipython3",
   "version": "3.7.4"
  }
 },
 "nbformat": 4,
 "nbformat_minor": 2
}
